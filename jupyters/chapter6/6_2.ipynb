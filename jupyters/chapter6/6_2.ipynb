{
 "cells": [
  {
   "cell_type": "markdown",
   "metadata": {},
   "source": [
    "## 6.2 图像卷积\n",
    "### 6.2.1 互相关运算\n",
    "严格来说，卷积层是错误的叫法，因为它所表达的运算其实是互相关运算(cross-correlation)，而不是卷积运算。\n",
    "\n",
    "首先，我们暂时忽略通道这一情况，看看如何处理二维图像数据和隐藏表示。在图6.2.1中，输入是高度为3、宽度为3的二维张量(即形状$3 \\times 3$)。卷积核的高度和宽度都是2，而卷积核窗口的形状由内核的高度和宽度决定(即$2 \\times 2$)。\n",
    "\n",
    "<div align=center>\n",
    "<img src='../../pics/6_2_1.jpeg' width='50%'>\n",
    "</div>"
   ]
  }
 ],
 "metadata": {
  "kernelspec": {
   "display_name": "Python 3.8.9 64-bit",
   "language": "python",
   "name": "python3"
  },
  "language_info": {
   "name": "python",
   "version": "3.8.9"
  },
  "orig_nbformat": 4,
  "vscode": {
   "interpreter": {
    "hash": "31f2aee4e71d21fbe5cf8b01ff0e069b9275f58929596ceb00d14d90e3e16cd6"
   }
  }
 },
 "nbformat": 4,
 "nbformat_minor": 2
}
