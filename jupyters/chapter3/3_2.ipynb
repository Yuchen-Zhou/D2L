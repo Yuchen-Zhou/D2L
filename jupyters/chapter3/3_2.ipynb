{
 "cells": [
  {
   "cell_type": "markdown",
   "metadata": {},
   "source": [
    "## 3.2 线性回归的从零开始实现"
   ]
  }
 ],
 "metadata": {
  "kernelspec": {
   "display_name": "Python 3.8.5 ('base')",
   "language": "python",
   "name": "python3"
  },
  "language_info": {
   "name": "python",
   "version": "3.8.5"
  },
  "orig_nbformat": 4,
  "vscode": {
   "interpreter": {
    "hash": "f89066b63f0d37f3fa43d093b9f7e02f1e100b5710a42f87d8a3cfe33407daa6"
   }
  }
 },
 "nbformat": 4,
 "nbformat_minor": 2
}
