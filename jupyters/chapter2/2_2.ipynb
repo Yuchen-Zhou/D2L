{
 "cells": [
  {
   "cell_type": "markdown",
   "metadata": {},
   "source": [
    "## 2.2数据预处理\n",
    "为了能用深度学习来解决现实世界的问题，我们经常从预处理原始数据开始，而不是从那些准备好的张量格式数据开始。\n",
    "\n",
    "\n",
    "### 2.2.1读取数据集\n",
    "举一个例子，我们首先创建一个人工数据集，并存储在CSV文件中`../data/house_tiny.csv`中。以其他格式存储的数据也可以通过类似的方式进行处理。"
   ]
  },
  {
   "cell_type": "code",
   "execution_count": null,
   "metadata": {},
   "outputs": [],
   "source": [
    "import os\n",
    "\n",
    "os.mkdir"
   ]
  }
 ],
 "metadata": {
  "language_info": {
   "name": "python"
  },
  "orig_nbformat": 4
 },
 "nbformat": 4,
 "nbformat_minor": 2
}
