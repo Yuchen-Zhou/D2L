{
 "cells": [
  {
   "cell_type": "markdown",
   "metadata": {},
   "source": [
    "## 2.3 线性代数\n",
    "### 2.3.1 标量\n",
    "标量由只有一个元素的张量表示。"
   ]
  },
  {
   "cell_type": "code",
   "execution_count": 1,
   "metadata": {},
   "outputs": [
    {
     "data": {
      "text/plain": [
       "(tensor(5.), tensor(6.), tensor(1.5000), tensor(9.))"
      ]
     },
     "execution_count": 1,
     "metadata": {},
     "output_type": "execute_result"
    }
   ],
   "source": [
    "import torch\n",
    "\n",
    "x = torch.tensor(3.0)\n",
    "y = torch.tensor(2.0)\n",
    "\n",
    "x+y, x*y, x/y, x**y"
   ]
  },
  {
   "cell_type": "markdown",
   "metadata": {},
   "source": [
    "### 2.3.2 向量\n",
    "你可以将向量视为标量值组成的列表。我们将这些标量值称为向量的元素(element)或分量(component)。当向量表示数据集中的样本时，它们的值具有一定的现实意义。"
   ]
  },
  {
   "cell_type": "code",
   "execution_count": 2,
   "metadata": {},
   "outputs": [
    {
     "data": {
      "text/plain": [
       "tensor([0, 1, 2, 3])"
      ]
     },
     "execution_count": 2,
     "metadata": {},
     "output_type": "execute_result"
    }
   ],
   "source": [
    "x = torch.arange(4)\n",
    "x"
   ]
  },
  {
   "cell_type": "code",
   "execution_count": 3,
   "metadata": {},
   "outputs": [
    {
     "data": {
      "text/plain": [
       "tensor(3)"
      ]
     },
     "execution_count": 3,
     "metadata": {},
     "output_type": "execute_result"
    }
   ],
   "source": [
    "#使用张量的索引访问任意元素\n",
    "x[3]"
   ]
  },
  {
   "cell_type": "markdown",
   "metadata": {},
   "source": [
    "**长度、维度和形状**\n",
    "\n",
    "向量只是一个数字数组，就像每个数组都有一个长度一样，每个向量也是如此。在数学表示法中，如果我们想说一个向量$x$由n个实值标量组成，我们都可以将其表示为$x \\in \\mathbb R^n$。向量的长度通常称为向量的维度(dimension)"
   ]
  },
  {
   "cell_type": "code",
   "execution_count": 4,
   "metadata": {},
   "outputs": [
    {
     "data": {
      "text/plain": [
       "4"
      ]
     },
     "execution_count": 4,
     "metadata": {},
     "output_type": "execute_result"
    }
   ],
   "source": [
    "#与普通的Python数组一样，我们可以通过Python内置的len()函数来访问张量的长度。\n",
    "len(x)"
   ]
  },
  {
   "cell_type": "code",
   "execution_count": 5,
   "metadata": {},
   "outputs": [
    {
     "data": {
      "text/plain": [
       "torch.Size([4])"
      ]
     },
     "execution_count": 5,
     "metadata": {},
     "output_type": "execute_result"
    }
   ],
   "source": [
    "#也可以使用.shape属性访问向量的长度\n",
    "x.shape"
   ]
  },
  {
   "cell_type": "markdown",
   "metadata": {},
   "source": [
    "### 2.3.3 矩阵\n",
    "正如向量将标量从零阶推广到一阶，矩阵将向量丛一阶推广到二阶。矩阵，我们通常用粗体、大写字母来表示，在代码中表示为具有两个轴的张量。\n",
    "\n",
    "在数学表示法中，我们使用$A \\in \\mathbb R^{m \\times n}$来表示矩阵**A**，其由m行和n列的实值标量组成。我们可以将任意矩阵$A \\in \\mathbb R^{m \\times n}$视为一个表格，其中元素$a_{ij}$属于第i行第j列：\n",
    "\n",
    "$$\n",
    "\\begin{bmatrix} a_{11} & a_{12} & ··· & a_{1n} \\\\ a_{21} & a_{22} & ··· & a_{2n} \\\\ · & · &  & ·· \\\\\n",
    "· & · &  & ·· \\\\ a_{m1} & a_{m2} & ·· & a_{mn}\n",
    "\\end{bmatrix}\n",
    "\\quad\n",
    "$$\n",
    "\n",
    "对于任意的$A \\in \\mathbb R^{m \\times n}$，**A**的形状是$(m,n)$或$m \\times n$。当矩阵具有相同数量的行和列时，其形状将变为正方形；因此，它被称为方针(square matrix)。\n",
    "\n",
    "当调用函数来实例化张量时，我们可以通过指定两个分量m和n来创建一个形状为$m \\times n$的矩阵。"
   ]
  },
  {
   "cell_type": "code",
   "execution_count": 6,
   "metadata": {},
   "outputs": [
    {
     "data": {
      "text/plain": [
       "tensor([[ 0,  1,  2,  3],\n",
       "        [ 4,  5,  6,  7],\n",
       "        [ 8,  9, 10, 11],\n",
       "        [12, 13, 14, 15],\n",
       "        [16, 17, 18, 19]])"
      ]
     },
     "execution_count": 6,
     "metadata": {},
     "output_type": "execute_result"
    }
   ],
   "source": [
    "A = torch.arange(20).reshape(5, 4)\n",
    "A"
   ]
  },
  {
   "cell_type": "markdown",
   "metadata": {},
   "source": [
    "我们可以通过行索引$(i)$和列索引$(j)$来访问矩阵中的标量元素$a_{ij}$，例如$[A]_{ij}$。\n",
    "\n",
    "当我们交换矩阵的行和列时，结果称为矩阵的转置(transpose)。我们用$a^T$来表示矩阵的转置，如果$B=A^T$，则对于任意$i和j$，都有$b_{ij}=a_{ji}。因此，在(2.3.2)中的矩阵转置是一个形状为$n \\times m$的矩阵：\n",
    "\n",
    "$$\n",
    "\\begin{bmatrix} a_{11} & a_{21} & ··· & a_{m1} \\\\ a_{12} & a_{22} & ··· & a_{m2} \\\\ · & · &  & ·· \\\\\n",
    "· & · &  & ·· \\\\ a_{1n} & a_{2n} & ·· & a_{mn}\n",
    "\\end{bmatrix}\n",
    "\\quad\n",
    "$$\n"
   ]
  },
  {
   "cell_type": "code",
   "execution_count": 7,
   "metadata": {},
   "outputs": [
    {
     "data": {
      "text/plain": [
       "tensor([[ 0,  4,  8, 12, 16],\n",
       "        [ 1,  5,  9, 13, 17],\n",
       "        [ 2,  6, 10, 14, 18],\n",
       "        [ 3,  7, 11, 15, 19]])"
      ]
     },
     "execution_count": 7,
     "metadata": {},
     "output_type": "execute_result"
    }
   ],
   "source": [
    "A.T"
   ]
  },
  {
   "cell_type": "markdown",
   "metadata": {},
   "source": [
    "作为方阵的一种特殊类型，对称矩阵(symmetric matrix)$A$等于其转置:$A = A^T$。"
   ]
  },
  {
   "cell_type": "code",
   "execution_count": 8,
   "metadata": {},
   "outputs": [
    {
     "data": {
      "text/plain": [
       "tensor([[1, 2, 3],\n",
       "        [2, 0, 4],\n",
       "        [3, 4, 5]])"
      ]
     },
     "execution_count": 8,
     "metadata": {},
     "output_type": "execute_result"
    }
   ],
   "source": [
    "B = torch.tensor([[1, 2, 3], [2, 0, 4], [3, 4, 5]])\n",
    "B"
   ]
  },
  {
   "cell_type": "code",
   "execution_count": 9,
   "metadata": {},
   "outputs": [
    {
     "data": {
      "text/plain": [
       "tensor([[True, True, True],\n",
       "        [True, True, True],\n",
       "        [True, True, True]])"
      ]
     },
     "execution_count": 9,
     "metadata": {},
     "output_type": "execute_result"
    }
   ],
   "source": [
    "#现在我们将B和它的转置进行比较\n",
    "B == B.T"
   ]
  },
  {
   "cell_type": "markdown",
   "metadata": {},
   "source": [
    "矩阵是有用的数据结构：它们允许我们组织具有不同模式的数据。\n",
    "\n",
    "### 2.3.4 张量\n",
    "张量为我们提供了描述具有任意数量轴的$n$维数组的通用方法。张量用特殊字体的大写字母表示，它们的索引机制与矩阵类似。\n",
    "\n",
    "当我们开始处理图像时，张量将变得更加重要，图像以$n$维数组形式出现，其中3个轴对应于高度、宽度以及一个通道(channel)轴，用于表示颜色通道(红色、绿色和蓝色)。"
   ]
  },
  {
   "cell_type": "code",
   "execution_count": 11,
   "metadata": {},
   "outputs": [
    {
     "data": {
      "text/plain": [
       "tensor([[[ 0,  1,  2,  3],\n",
       "         [ 4,  5,  6,  7],\n",
       "         [ 8,  9, 10, 11]],\n",
       "\n",
       "        [[12, 13, 14, 15],\n",
       "         [16, 17, 18, 19],\n",
       "         [20, 21, 22, 23]]])"
      ]
     },
     "execution_count": 11,
     "metadata": {},
     "output_type": "execute_result"
    }
   ],
   "source": [
    "X = torch.arange(24).reshape(2, 3, 4)\n",
    "\n",
    "X"
   ]
  },
  {
   "cell_type": "markdown",
   "metadata": {},
   "source": [
    "### 2.3.5 张量算法的基本性质\n",
    "标量、向量、矩阵和任意数量轴的张量有一些实用的属性。例如，你可能已经从按元素操作的定义中注意到，任何元素的一元运算都不会改变其操作数的形状。同样，给定具有相同形状的任意两个张量，任何按元素二元运算的结果都是相同形状的张量。例如，将两个相同形状的矩阵相加，会在这两个矩阵上执行元素加法。"
   ]
  },
  {
   "cell_type": "code",
   "execution_count": 12,
   "metadata": {},
   "outputs": [
    {
     "data": {
      "text/plain": [
       "(tensor([[ 0.,  1.,  2.,  3.],\n",
       "         [ 4.,  5.,  6.,  7.],\n",
       "         [ 8.,  9., 10., 11.],\n",
       "         [12., 13., 14., 15.],\n",
       "         [16., 17., 18., 19.]]),\n",
       " tensor([[ 0.,  2.,  4.,  6.],\n",
       "         [ 8., 10., 12., 14.],\n",
       "         [16., 18., 20., 22.],\n",
       "         [24., 26., 28., 30.],\n",
       "         [32., 34., 36., 38.]]))"
      ]
     },
     "execution_count": 12,
     "metadata": {},
     "output_type": "execute_result"
    }
   ],
   "source": [
    "A = torch.arange(20, dtype=torch.float32).reshape(5, 4)\n",
    "B = A.clone()\n",
    "A, A+B"
   ]
  },
  {
   "cell_type": "markdown",
   "metadata": {},
   "source": [
    "具体而言，两个矩阵的按元素乘法称为Hadamard积(Hadamard product,$\\odot$)。对于矩阵$B \\in \\mathbb R^{m \\times n}$，其中第$i$和第$j$列的元素是$b_{ij}$。矩阵$A$和$B$的Hadamard积为:\n",
    "\n",
    "$$\n",
    "A \\odot B = \n",
    "\\begin{bmatrix} a_{11}b_{11} & a_{12}b_{12} & ··· & a_{1n}b_{1n} \\\\ a_{21}b_{21} & a_{22}b_{22} & ··· & a_{2n}b_{2m} \\\\ · & · &  & ·· \\\\\n",
    "· & · &  & ·· \\\\ a_{m1}b_{m1} & a_{m2}b_{m2} & ·· & a_{mn}b_{mn}\n",
    "\\end{bmatrix}\n",
    "\\quad\n",
    "$$"
   ]
  },
  {
   "cell_type": "code",
   "execution_count": 13,
   "metadata": {},
   "outputs": [
    {
     "data": {
      "text/plain": [
       "tensor([[  0.,   1.,   4.,   9.],\n",
       "        [ 16.,  25.,  36.,  49.],\n",
       "        [ 64.,  81., 100., 121.],\n",
       "        [144., 169., 196., 225.],\n",
       "        [256., 289., 324., 361.]])"
      ]
     },
     "execution_count": 13,
     "metadata": {},
     "output_type": "execute_result"
    }
   ],
   "source": [
    "A * B"
   ]
  },
  {
   "cell_type": "code",
   "execution_count": 14,
   "metadata": {},
   "outputs": [
    {
     "data": {
      "text/plain": [
       "(tensor([[[ 2,  3,  4,  5],\n",
       "          [ 6,  7,  8,  9],\n",
       "          [10, 11, 12, 13]],\n",
       " \n",
       "         [[14, 15, 16, 17],\n",
       "          [18, 19, 20, 21],\n",
       "          [22, 23, 24, 25]]]),\n",
       " torch.Size([2, 3, 4]))"
      ]
     },
     "execution_count": 14,
     "metadata": {},
     "output_type": "execute_result"
    }
   ],
   "source": [
    "#将张量乘以或加上一个标量不会改变张量的形状，其中张量的每个元素都将与标量相加或相乘\n",
    "a = 2\n",
    "X = torch.arange(24).reshape(2, 3, 4)\n",
    "a + X, (a * X).shape"
   ]
  },
  {
   "cell_type": "markdown",
   "metadata": {},
   "source": [
    "### 2.3.6 降维\n",
    "我们可以对任意张量进行的一个有用的操作是计算其元素的和。在数学表示法中，我们使用$\\sum$符合表示求和。为了表示长度为$d$的向量中元素的总和，可以记为$\\sum_{i=1}^d x_i$。"
   ]
  },
  {
   "cell_type": "code",
   "execution_count": 15,
   "metadata": {},
   "outputs": [
    {
     "data": {
      "text/plain": [
       "(tensor([0., 1., 2., 3.]), tensor(6.))"
      ]
     },
     "execution_count": 15,
     "metadata": {},
     "output_type": "execute_result"
    }
   ],
   "source": [
    "x = torch.arange(4, dtype=torch.float32)\n",
    "x, x.sum()"
   ]
  },
  {
   "cell_type": "code",
   "execution_count": 16,
   "metadata": {},
   "outputs": [
    {
     "data": {
      "text/plain": [
       "(torch.Size([5, 4]), tensor(190.))"
      ]
     },
     "execution_count": 16,
     "metadata": {},
     "output_type": "execute_result"
    }
   ],
   "source": [
    "#我们可以表示任意形状张量的元素和。\n",
    "A.shape, A.sum()"
   ]
  },
  {
   "cell_type": "markdown",
   "metadata": {},
   "source": [
    "默认情况下，调用求和函数会沿着所有的轴降低张量的维度，使它变为一个标量。我们还可以指定张量沿着哪一个轴来通过求和函数降低维度。以矩阵为例，为了通过求和所有行的元素来降维(轴0)，我们可以在调用函数时指定`axis=0`。由于输入矩阵沿0轴降维以生成输出向量，因此输入轴0的维数在输出形状中消失。"
   ]
  },
  {
   "cell_type": "code",
   "execution_count": 17,
   "metadata": {},
   "outputs": [
    {
     "data": {
      "text/plain": [
       "(tensor([40., 45., 50., 55.]), torch.Size([4]))"
      ]
     },
     "execution_count": 17,
     "metadata": {},
     "output_type": "execute_result"
    }
   ],
   "source": [
    "A_sum_axis0 = A.sum(axis=0)\n",
    "A_sum_axis0, A_sum_axis0.shape"
   ]
  },
  {
   "cell_type": "code",
   "execution_count": 19,
   "metadata": {},
   "outputs": [
    {
     "data": {
      "text/plain": [
       "(tensor([ 6., 22., 38., 54., 70.]), torch.Size([5]))"
      ]
     },
     "execution_count": 19,
     "metadata": {},
     "output_type": "execute_result"
    }
   ],
   "source": [
    "#指定axis=1将通过汇总所有列的元素降维(轴1)\n",
    "A_sum_axis1 = A.sum(axis=1)\n",
    "A_sum_axis1, A_sum_axis1.shape"
   ]
  },
  {
   "cell_type": "code",
   "execution_count": 20,
   "metadata": {},
   "outputs": [
    {
     "data": {
      "text/plain": [
       "tensor(190.)"
      ]
     },
     "execution_count": 20,
     "metadata": {},
     "output_type": "execute_result"
    }
   ],
   "source": [
    "#沿着行和列对矩阵求和，等价于对矩阵的所有元素进行求和\n",
    "A.sum(axis=[0, 1])"
   ]
  },
  {
   "cell_type": "code",
   "execution_count": 21,
   "metadata": {},
   "outputs": [
    {
     "data": {
      "text/plain": [
       "(tensor(9.5000), tensor(9.5000))"
      ]
     },
     "execution_count": 21,
     "metadata": {},
     "output_type": "execute_result"
    }
   ],
   "source": [
    "#一个与求和相关的量是平均值(mean或average)。我们通过将总和除以元素总数来计算平均值。\n",
    "A.mean(), A.sum()/A.numel()"
   ]
  },
  {
   "cell_type": "code",
   "execution_count": 22,
   "metadata": {},
   "outputs": [
    {
     "data": {
      "text/plain": [
       "(tensor([ 8.,  9., 10., 11.]), tensor([ 8.,  9., 10., 11.]))"
      ]
     },
     "execution_count": 22,
     "metadata": {},
     "output_type": "execute_result"
    }
   ],
   "source": [
    "#同样，计算平均值的函数也可以沿着指定轴降低张量的维度\n",
    "A.mean(axis=0), A.sum(axis=0)/A.shape[0]"
   ]
  },
  {
   "cell_type": "markdown",
   "metadata": {},
   "source": [
    "**非降维求和**"
   ]
  },
  {
   "cell_type": "code",
   "execution_count": 23,
   "metadata": {},
   "outputs": [
    {
     "data": {
      "text/plain": [
       "tensor([[ 6.],\n",
       "        [22.],\n",
       "        [38.],\n",
       "        [54.],\n",
       "        [70.]])"
      ]
     },
     "execution_count": 23,
     "metadata": {},
     "output_type": "execute_result"
    }
   ],
   "source": [
    "#有时在调用函数来计算总和或均值时保持轴数不变会很有用\n",
    "sum_A = A.sum(axis=1, keepdims=True)\n",
    "sum_A"
   ]
  },
  {
   "cell_type": "code",
   "execution_count": 24,
   "metadata": {},
   "outputs": [
    {
     "data": {
      "text/plain": [
       "tensor([[0.0000, 0.1667, 0.3333, 0.5000],\n",
       "        [0.1818, 0.2273, 0.2727, 0.3182],\n",
       "        [0.2105, 0.2368, 0.2632, 0.2895],\n",
       "        [0.2222, 0.2407, 0.2593, 0.2778],\n",
       "        [0.2286, 0.2429, 0.2571, 0.2714]])"
      ]
     },
     "execution_count": 24,
     "metadata": {},
     "output_type": "execute_result"
    }
   ],
   "source": [
    "#例如，由于sum_A在对每行进行求和后任保持两个轴，我们通过广播将A除以sum_A\n",
    "A / sum_A"
   ]
  },
  {
   "cell_type": "code",
   "execution_count": 25,
   "metadata": {},
   "outputs": [
    {
     "data": {
      "text/plain": [
       "tensor([[ 0.,  1.,  2.,  3.],\n",
       "        [ 4.,  6.,  8., 10.],\n",
       "        [12., 15., 18., 21.],\n",
       "        [24., 28., 32., 36.],\n",
       "        [40., 45., 50., 55.]])"
      ]
     },
     "execution_count": 25,
     "metadata": {},
     "output_type": "execute_result"
    }
   ],
   "source": [
    "#如果我们想沿某个轴计算A元素的累积总和，我们可以使用cumsum函数，此函数不会沿任何轴降低输入张量的维度\n",
    "A.cumsum(axis=0)"
   ]
  },
  {
   "cell_type": "markdown",
   "metadata": {},
   "source": [
    "### 2.3.7 点积(Dot Product)\n",
    "我们已经学习了按元素操作、求和及平均值。另一个最基本的操作之一是点积。给定两个向量$x,y \\in \\mathbb R^d$，它们的点积(dot product)$x^T y$是相同位置的按元素乘积的和：$x^T y = \\sum_{i=1}^{d} x_i y_i$"
   ]
  },
  {
   "cell_type": "code",
   "execution_count": 26,
   "metadata": {},
   "outputs": [
    {
     "data": {
      "text/plain": [
       "(tensor([0., 1., 2., 3.]), tensor([1., 1., 1., 1.]), tensor(6.))"
      ]
     },
     "execution_count": 26,
     "metadata": {},
     "output_type": "execute_result"
    }
   ],
   "source": [
    "y = torch.ones(4, dtype=torch.float32)\n",
    "x, y, torch.dot(x, y)"
   ]
  },
  {
   "cell_type": "code",
   "execution_count": 27,
   "metadata": {},
   "outputs": [
    {
     "data": {
      "text/plain": [
       "tensor(6.)"
      ]
     },
     "execution_count": 27,
     "metadata": {},
     "output_type": "execute_result"
    }
   ],
   "source": [
    "#w我们可以通过执行按元素乘法，然后进行求和表示两个向量的点积\n",
    "torch.sum(x * y)"
   ]
  },
  {
   "cell_type": "markdown",
   "metadata": {},
   "source": [
    "点积在很多场合都很有用。例如，给定一组向量由$x \\in \\mathbb R^d$表示的值，和一组由$w \\in \\mathbb R^b$表示的权重。$x$中的值根据权重$w$的加权和，可以表示为点积$x^Tw$。当权重为非负数且和为1时，点积表示加权平均(weighted average)。将两个向量规范化得到单位长度后，点积表示为它们夹角的余弦。\n",
    "\n",
    "### 2.3.8 矩阵-向量积\n",
    "现在我们知道如何计算点积，我们可以开始理解矩阵-向量积(matrix-vector product)。矩阵$A \\in \\mathbb R^{m \\times n}$和向量$x \\in \\mathbb R^n$。让我们用矩阵$A$用它的行向量表示:\n",
    "\n",
    "$$\n",
    "A = \n",
    "\\begin{bmatrix}\n",
    "a_1^T \\\\ a_2^T \\\\ · \\\\ · \\\\ · \\\\ a_m^T\n",
    "\\end{bmatrix}\n",
    "\\quad\n",
    "$$\n",
    "\n",
    "其实每个$a_i^T \\in \\mathbb R^n$都是行向量，表示矩阵的第$i$行。矩阵向量积$Ax$是一个长度为m的列向量，其第$i$个元素是点积$a_i^Tx$:\n",
    "\n",
    "$$\n",
    "Ax = \n",
    "\\begin{bmatrix}\n",
    "a_1^T \\\\ a_2^T \\\\ · \\\\ · \\\\ · \\\\ a_m^T \n",
    "\\end{bmatrix}\n",
    "x = \n",
    "\\begin{bmatrix}\n",
    "a_1^Tx \\\\ a_2^Tx \\\\ · \\\\ · \\\\ · \\\\ a_m^Tx\n",
    "\\end{bmatrix}\n",
    "$$\n",
    "\n",
    "我们可以把一个矩阵$A \\in \\mathbb R^{m \\times n}$乘法看作是一个从$\\mathbb R^n$到$\\mathbb R^m$向量到转换。这些转换是非常有用的。例如，我们可以用方阵的乘法来表示旋转。我们也可以使用矩阵-向量积来描述给定前一层的值时，求解神经网络每一层所需的复杂计算。\n",
    "\n",
    "在代码中使用张量表示矩阵-向量积，我们使用与点积相同的mv函数。当我们为矩阵A和向量x调用`torch.mv(A, x)`时，会执行矩阵-向量积。注意，A的列维数(沿轴1的长度)必须与x的维数相同。"
   ]
  },
  {
   "cell_type": "code",
   "execution_count": 28,
   "metadata": {},
   "outputs": [
    {
     "data": {
      "text/plain": [
       "(torch.Size([5, 4]), torch.Size([4]), tensor([ 14.,  38.,  62.,  86., 110.]))"
      ]
     },
     "execution_count": 28,
     "metadata": {},
     "output_type": "execute_result"
    }
   ],
   "source": [
    "A.shape, x.shape, torch.mv(A, x)"
   ]
  },
  {
   "cell_type": "markdown",
   "metadata": {},
   "source": [
    "### 2.3.9 矩阵-矩阵乘法\n",
    "\n",
    "假设我们有两个矩阵$A \\in \\mathbb R^{n \\times k}$和$B \\in \\mathbb R^{k \\times m}$：\n",
    "\n",
    "$$\n",
    "A = \n",
    "\\begin{bmatrix}\n",
    "a_{11} & a_{12} & ··· & a_{1k} \\\\\n",
    "a_{21} & a_{22} & ··· & a_{2k} \\\\\n",
    "· & · & & · \\\\ · & · & & · \\\\ \n",
    "a_{n1} & a_{n2} & ··· & a_{nk}\n",
    "\\end{bmatrix},\n",
    "\n",
    "B = \\begin{bmatrix}\n",
    "b_{11} & b_{12} & ··· & b_{1k} \\\\\n",
    "b_{21} & b_{22} & ··· & b_{2k} \\\\\n",
    "· & · & & · \\\\ · & · & & · \\\\ \n",
    "b_{n1} & b_{n2} & ··· & b_{nk}\n",
    "\\end{bmatrix}\n",
    "$$\n",
    "\n",
    "用行向量$a_i^T \\in \\mathbb R^k$表示矩阵$A$的第$i$行，并让列向量$b_j \\in \\mathbb R^k$作为矩阵$B$的第$j$列。要生成矩阵积$C = AB$，最简单的方法就是考虑$A$的行向量和$B$的列向量：\n",
    "\n",
    "$$\n",
    "A = \n",
    "\\begin{bmatrix}\n",
    "a_1^T \\\\ a_2^T \\\\ · \\\\ · \\\\ a_n^T\n",
    "\\end{bmatrix}，\n",
    "\n",
    "B= \\begin{bmatrix} b_1 & b_2 & ··· & b_m \\end{bmatrix}\n",
    "$$\n",
    "\n",
    "当我们简单地将每个元素$c_i$计算为点积$a_i^T b_j$：\n",
    "\n",
    "$$\n",
    "C = AB = \n",
    "\\begin{bmatrix}\n",
    "a_1^T \\\\ a_2^T \\\\ · \\\\ · \\\\ a_n^T\n",
    "\\end{bmatrix} \n",
    "\\begin{bmatrix} b_1 & b_2 & ··· & b_m \\end{bmatrix} \n",
    "= \n",
    "\\begin{bmatrix} \n",
    "a_1^T b_1 & a_1^T b_2 & ··· & a_1^T b_m \\\\\n",
    "a_2^T b_1 & a_2^T b_2 & ··· & a_2^T b_m \\\\\n",
    "· & · &  & · \\\\\n",
    "· & · &  & · \\\\\n",
    "a_n^T b_1 & a_n^T b_2 & ··· & a_n^T b_m\n",
    "\\end{bmatrix}\n",
    "$$\n",
    "\n",
    "我们可以将矩阵-矩阵乘法$AB$看作是简单地执行$m$次矩阵-向量积，并将结果拼接在一起，形成一个$n \\times m$ 矩阵。在下面的代码中，我们在A和B上执行了矩阵乘法。这里的A是一个5行4列的矩阵，B是一个4行3列的矩阵。两者相乘后，我们得到了一个5行3列的矩阵"
   ]
  },
  {
   "cell_type": "code",
   "execution_count": 30,
   "metadata": {},
   "outputs": [
    {
     "data": {
      "text/plain": [
       "tensor([[ 6.,  6.,  6.],\n",
       "        [22., 22., 22.],\n",
       "        [38., 38., 38.],\n",
       "        [54., 54., 54.],\n",
       "        [70., 70., 70.]])"
      ]
     },
     "execution_count": 30,
     "metadata": {},
     "output_type": "execute_result"
    }
   ],
   "source": [
    "B = torch.ones(4, 3)\n",
    "torch.mm(A, B)"
   ]
  },
  {
   "cell_type": "markdown",
   "metadata": {},
   "source": [
    "矩阵-矩阵乘法可以简单地称为矩阵乘法，不能与Hadamard积混淆\n",
    "\n",
    "### 2.3.10 范数\n",
    "线性代数中最有用的一些运算符是范数(norm)。非正式地说，一个向量的范数告诉我们一个向量有多大。这里考虑的大小(size)概念不涉及维度，而是分量大小。\n",
    "\n",
    "在线性代数中，向量范数是将向量映射到标量的函数$f$。给定任意向量$x$，向量范数要满足一些属性。第一个性质是：如果我们按常数因子$\\alpha$缩放向量的所有元素，其范数也会按相同常数因子的绝对值缩放：\n",
    "\n",
    "$$ f (\\alpha x) = |\\alpha| f(x)\n",
    "$$\n",
    "\n",
    "第二个性质是我们熟悉的三角不等式：\n",
    "\n",
    "$$\n",
    " f(x+y) ≤ f(x) + f(y)\n",
    "$$\n",
    "\n",
    "第三个性质简单地说范数必须是非负的：\n",
    "\n",
    "$$\n",
    "f(x) ≥ 0\n",
    "$$\n",
    "\n",
    "这是有道理的。因为在大多数情况下，任何东西的最小的大小是0.最后一个性质要求范数最小为0，当且仅当向量全由0组成。\n",
    "\n",
    "$$\n",
    "\\forall i,  [x]_i = 0 \\leftrightarrow f(x) = 0\n",
    "$$\n",
    "\n",
    "你可能会注意到，范数听起来很像距离的度量。如果你还记得欧几里得距离和毕达哥拉斯定理，那么非负性的概念和三角不等式可能会给你一些启发。事实上，欧几里得距离是一个$L_2$范数：假设$n$维向量$x$中的元素是$x_1, ..., x_n$，其$L_2$范数是向量元素平方和的平方根：\n",
    "\n",
    "$$\n",
    "||x||_2 = \\sqrt{\\sum_{i=1}^n x^2_i}\n",
    "$$\n",
    "\n",
    "其中，在$L_2$范数中常常省略下标2，也就是说$||x||$等同于$||x||_2$。"
   ]
  },
  {
   "cell_type": "code",
   "execution_count": 31,
   "metadata": {},
   "outputs": [
    {
     "data": {
      "text/plain": [
       "tensor(5.)"
      ]
     },
     "execution_count": 31,
     "metadata": {},
     "output_type": "execute_result"
    }
   ],
   "source": [
    "u = torch.tensor([3.0, -4.0])\n",
    "torch.norm(u)"
   ]
  },
  {
   "cell_type": "markdown",
   "metadata": {},
   "source": [
    "在深度学习中，我们更经常地使用$L_2$范数的平方。你还会经常遇到$L_1$范数，它表示为向量元素的绝对值之和：\n",
    "\n",
    "$$\n",
    "||x||_1 = \\sum_{i=1}^n |x_i|\n",
    "$$\n",
    "\n",
    "和$L_2$范数相比，$L_1$范数受异常值的影响较小。为了计算$L_1$范数，我们将绝对值函数按和元素求和组合起来。"
   ]
  },
  {
   "cell_type": "code",
   "execution_count": 32,
   "metadata": {},
   "outputs": [
    {
     "data": {
      "text/plain": [
       "tensor(7.)"
      ]
     },
     "execution_count": 32,
     "metadata": {},
     "output_type": "execute_result"
    }
   ],
   "source": [
    "torch.abs(u).sum()"
   ]
  },
  {
   "cell_type": "markdown",
   "metadata": {},
   "source": [
    "$L_2$范数和$L_1$范数都是更一般的$L_p$范数的特例：\n",
    "\n",
    "$$\n",
    "||x||_p = (\\sum_{i=1}^n |x_i|^p)^{1/p}\n",
    "$$\n",
    "\n",
    "类似于向量的$L_2$范数，矩阵$X \\in \\mathbb R^{m \\times n}的Frobenius范数是矩阵元素平方和的平方根：\n",
    "\n",
    "$$\n",
    "||X||_F = \\sqrt{\\sum_{i=1}^m \\sum_{j=1}^n x_{ij}^2}\n",
    "$$\n",
    "\n",
    "Frobenius范数满足向量范数的所有性质，它就像矩阵向量的$L_2$范数。"
   ]
  },
  {
   "cell_type": "code",
   "execution_count": 33,
   "metadata": {},
   "outputs": [
    {
     "data": {
      "text/plain": [
       "tensor(6.)"
      ]
     },
     "execution_count": 33,
     "metadata": {},
     "output_type": "execute_result"
    }
   ],
   "source": [
    "torch.norm(torch.ones(4, 9))"
   ]
  },
  {
   "cell_type": "markdown",
   "metadata": {},
   "source": [
    "**范数和目标**  \n",
    "在深度学习中，我们经常试图解决优化问题： 最大化分配给观测数据的概率；最小化预测和真实预测之间的距离。用向量表示物品(如单词、产品或新闻文章)，以便最小化相似项目之间的距离，最大化不同项目之间的距离。目标，或许是深度学习算法最重要的组成部分(除了数据)，通常被表达为范数。\n",
    "\n",
    "### 2.3.11 小结\n",
    "- 标量、向量、矩阵和张量是线性代数中的基本数学对象\n",
    "- 向量泛化自标量，矩阵泛化自向量\n",
    "- 标量、向量、矩阵和张量分别具有零、一、二和任意数量的轴\n",
    "- 一个张量可以通过`sum`和`mean`沿指定的轴降低维度\n",
    "- 两个矩阵按元素乘法被称为他们的Hadamard积。它与矩阵乘法不同。\n",
    "- 在深度学习中，我们经常使用范数，如$L_1$范数、$L_2$范数和Frobenius范数\n",
    "- 我们可以对标量、向量、矩阵和张量执行各种操作。"
   ]
  }
 ],
 "metadata": {
  "kernelspec": {
   "display_name": "Python 3.8.5 ('base')",
   "language": "python",
   "name": "python3"
  },
  "language_info": {
   "codemirror_mode": {
    "name": "ipython",
    "version": 3
   },
   "file_extension": ".py",
   "mimetype": "text/x-python",
   "name": "python",
   "nbconvert_exporter": "python",
   "pygments_lexer": "ipython3",
   "version": "3.8.5"
  },
  "orig_nbformat": 4,
  "vscode": {
   "interpreter": {
    "hash": "f89066b63f0d37f3fa43d093b9f7e02f1e100b5710a42f87d8a3cfe33407daa6"
   }
  }
 },
 "nbformat": 4,
 "nbformat_minor": 2
}
