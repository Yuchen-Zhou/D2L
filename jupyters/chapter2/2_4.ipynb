{
 "cells": [
  {
   "cell_type": "markdown",
   "metadata": {},
   "source": [
    "## 2.4 微积分\n",
    "\n",
    "在2500年前，古希腊人把一个多边形分成三角形，并把它们的面积相加才找到计算多边形面积的方法。为了求出曲线形状的面积，古希腊人才用了逼近法。事实上，逼近法就是积分(integral calculus)的起源。2000多年后，微积分的另一支，微分(differential caculus)被发明出来。在微分学中最重要的应用就是优化问题，即考虑如何把事情做到最好。\n",
    "\n",
    "在深度学习中，我们“训练”模型，不断更新它们，使它们在看到越来越多的数据时变得更好。通常情况下，变得更好意味着最小化一个损失函数(loss function)，即一个衡量“我们的模型有多糟糕”这个问题的分数。最终，我们真正关系的是生成一个模型，它能够在从未见过的数据上表现良好。但“训练”模型只能将模型与我们实际能看到的数据相拟合。因此，拟合模型的任务分解成两个关键问题：\n",
    "\n",
    "- 优化(optimization)：用模型拟合观测数据的过程；\n",
    "- 泛化(generalization)：数学原理和实践者的智慧，能够指导我们生成有效性超出用于训练的数据集本身的模型。\n",
    "\n",
    "### 2.4.1 导数与微分\n",
    "我们首先讨论导数的计算，这是几乎所有深度学习优化算法的关键步骤。在深度学习中，我们通常会选择对于模型参数可微的损失函数。\n",
    "\n",
    "假设我们有一个函数$f: \\mathbb R^n \\rightarrow \\mathbb R$，其输入和输出都是标量。如果$f$的导数存在，这个极限被定义为\n",
    "\n",
    "$$\n",
    "f'(x) = \\lim_{h\\rightarrow 0} \\frac{f(x+h)-f(x)}{h}\n",
    "$$\n",
    "\n",
    "如果$f'(a)$存在，则称$f$在a处可微(differentiable)的。如果$f$在一个区间内的每个数上都是可微的，则此函数在此区间中是可微的。\n",
    "\n",
    "为了更好地解释导数，让我们做一个实验。定义$u=f(x)=3x^2-4x$如下"
   ]
  },
  {
   "cell_type": "code",
   "execution_count": 3,
   "metadata": {},
   "outputs": [],
   "source": [
    "%matplotlib inline\n",
    "import numpy as np\n",
    "from matplotlib_inline import backend_inline\n",
    "from d2l import torch as d2l\n",
    "\n",
    "def f(x):\n",
    "    return 3 * x ** 2 - 4 * x"
   ]
  },
  {
   "cell_type": "markdown",
   "metadata": {},
   "source": [
    "通过令$x=1$并让$h$接近0，那么导数接近2。"
   ]
  },
  {
   "cell_type": "code",
   "execution_count": 8,
   "metadata": {},
   "outputs": [
    {
     "name": "stdout",
     "output_type": "stream",
     "text": [
      "h=0.10000, numerical limit=2.30000\n",
      "h=0.01000, numerical limit=2.03000\n",
      "h=0.00100, numerical limit=2.00300\n",
      "h=0.00010, numerical limit=2.00030\n",
      "h=0.00001, numerical limit=2.00003\n"
     ]
    }
   ],
   "source": [
    "def numerical_lim(f, x, h):\n",
    "    return (f(x+h) - f(x)) / h\n",
    "\n",
    "h = 0.1\n",
    "for i in range(5):\n",
    "    print(f'h={h:.5f}, numerical limit={numerical_lim(f, 1, h):.5f}')\n",
    "    h *= 0.1"
   ]
  },
  {
   "cell_type": "markdown",
   "metadata": {},
   "source": [
    "让我们熟悉一下导数的几个等价符号。给定$y=f(x)$，其中$x$和$y$分别是函数$f$的自变量和因变量。以下表达式是等价的：\n",
    "\n",
    "$$\n",
    "f'(x) = y' = \\frac{dy}{dx} = \\frac{df}{dx} = \\frac{d}{dx}f(x) = Df(x) = D_xf(x)\n",
    "$$\n",
    "\n",
    "其中符号$\\frac{d}{dx}$和$D$是微分运算符，表示微分操作。"
   ]
  },
  {
   "cell_type": "markdown",
   "metadata": {},
   "source": []
  }
 ],
 "metadata": {
  "kernelspec": {
   "display_name": "Python 3.8.5 ('base')",
   "language": "python",
   "name": "python3"
  },
  "language_info": {
   "codemirror_mode": {
    "name": "ipython",
    "version": 3
   },
   "file_extension": ".py",
   "mimetype": "text/x-python",
   "name": "python",
   "nbconvert_exporter": "python",
   "pygments_lexer": "ipython3",
   "version": "3.8.5"
  },
  "orig_nbformat": 4,
  "vscode": {
   "interpreter": {
    "hash": "f89066b63f0d37f3fa43d093b9f7e02f1e100b5710a42f87d8a3cfe33407daa6"
   }
  }
 },
 "nbformat": 4,
 "nbformat_minor": 2
}
