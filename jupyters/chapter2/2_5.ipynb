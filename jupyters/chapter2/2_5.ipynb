{
 "cells": [
  {
   "cell_type": "markdown",
   "metadata": {},
   "source": [
    "## 2.5 自动微分\n",
    "\n",
    "求导是几乎所有深度学习优化算法的关键步骤。虽然求导的计算很简单，只需要一些基本的微积分。但对于复杂的模型，手工进行更新是一件很痛苦的事情。\n",
    "\n",
    "深度学习框架通过自动计算导数，即自动微分(automatic differentiation)来加快求导。实际上，根据我们设计的模型，系统会构建一个计算图(computational graph)，来跟踪计算哪些数据通过哪些操作组合起来产生输出。自动微分使系统能够随后反向传播梯度。这里，反向传播(backpropagate)意味着跟着整个计算图，填充关于每个参数的偏导数。\n",
    "\n",
    "\n"
   ]
  }
 ],
 "metadata": {
  "language_info": {
   "name": "python"
  },
  "orig_nbformat": 4
 },
 "nbformat": 4,
 "nbformat_minor": 2
}
